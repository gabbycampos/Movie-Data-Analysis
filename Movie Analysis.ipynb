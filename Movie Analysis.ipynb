{
 "cells": [
  {
   "cell_type": "markdown",
   "metadata": {},
   "source": [
    "# Top Earners in the Movie Industry\n",
    "## Table of Contents\n",
    "<ul>\n",
    "    <li>Introduction</li>\n",
    "    <li>Data Cleaning</li>\n",
    "    <li>Graphs<li>\n",
    "    Conclusion"
   ]
  },
  {
   "cell_type": "markdown",
   "metadata": {},
   "source": [
    "<a id=\"#introduction\"></a>\n",
    "## Introduction\n",
    "\n",
    "> In this data analysis we will find the top earners in the movie industry across movie genre, director, and production companies. "
   ]
  },
  {
   "cell_type": "code",
   "execution_count": 1,
   "metadata": {},
   "outputs": [],
   "source": [
    "import pandas as pd\n",
    "import numpy as np\n",
    "\n",
    "%matplotlib inline\n",
    "import matplotlib.pyplot as plt"
   ]
  },
  {
   "cell_type": "code",
   "execution_count": 2,
   "metadata": {},
   "outputs": [],
   "source": [
    "df = pd.read_csv('./imdb-movies.csv')"
   ]
  },
  {
   "cell_type": "code",
   "execution_count": 22,
   "metadata": {
    "scrolled": true
   },
   "outputs": [],
   "source": [
    "#drop empty budget and revenue\n",
    "df.drop(df.query('budget == 0 or revenue == 0').index, inplace=True)\n",
    "df.query('budget == 0 or revenue == 0')"
   ]
  },
  {
   "cell_type": "markdown",
   "metadata": {},
   "source": [
    "#### Fill in Directors name"
   ]
  },
  {
   "cell_type": "code",
   "execution_count": 23,
   "metadata": {},
   "outputs": [],
   "source": [
    "# Aziz Mirza\n",
    "df.fillna({'director': \"Aziz Mirza\"}, inplace=True)\n",
    "df[df.director == \"Aziz Mirza\"]"
   ]
  },
  {
   "cell_type": "markdown",
   "metadata": {},
   "source": [
    "<a id=\"#data cleaning\"></a>\n",
    "## Data Cleaning"
   ]
  },
  {
   "cell_type": "markdown",
   "metadata": {},
   "source": [
    "#### Drop Columns"
   ]
  },
  {
   "cell_type": "code",
   "execution_count": 5,
   "metadata": {
    "scrolled": true
   },
   "outputs": [],
   "source": [
    "# delete all records with null, or empty values\n",
    "\n",
    "#df.isnull().sum()\n",
    "df.drop([\"id\", \"homepage\", \"imdb_id\", \"tagline\", \"cast\", \"keywords\", \"overview\", \"vote_count\", \"vote_average\", \"release_date\"], axis=1, inplace=True)\n",
    "df.dropna(inplace=True)\n",
    "df.reset_index(drop=True, inplace=True)"
   ]
  },
  {
   "cell_type": "markdown",
   "metadata": {},
   "source": [
    "#### drop movies with na production_companies"
   ]
  },
  {
   "cell_type": "code",
   "execution_count": 7,
   "metadata": {},
   "outputs": [],
   "source": [
    "# df.dropna(inplace=True)\n",
    " df[df.isna()]"
   ]
  },
  {
   "cell_type": "markdown",
   "metadata": {},
   "source": [
    "##### If i created one record for each the 'production_companies' a movie was release under and one record each for 'genres'<br>and tried to run calculations, it wouldn't work because for many records, the amount of 'production_companies'<br>and'genres'aren't the same, so I'll create 2 dataframes; one w/o a 'production_companies'column and one w/o a 'genres'columns"
   ]
  },
  {
   "cell_type": "markdown",
   "metadata": {},
   "source": [
    "#### One record per production_company"
   ]
  },
  {
   "cell_type": "code",
   "execution_count": 11,
   "metadata": {
    "scrolled": true
   },
   "outputs": [],
   "source": [
    "production_records = df[df.production_companies.str.contains('|')]\n",
    "production_records.production_companies = production_records.production_companies.apply(lambda x: x.split('|'))\n",
    "#production_records.production_companies.iloc[0] #verify produciton company records are split into a list\n",
    "\n",
    "df_pc = pd.DataFrame(columns=df.columns)\n",
    "for i in range(len(production_records)):\n",
    "    record = production_records.iloc[i] #returns all data for every record w/ ability to access column data\n",
    "    for production_company in production_records.production_companies[i]: # loops through all production companies\n",
    "        df_pc = df_pc.append(pd.DataFrame([\n",
    "            [record.popularity, record.budget, record.revenue, record.original_title, record.director, record.runtime, record.genres, production_company, record.release_year, record.budget_adj, record.revenue_adj]\n",
    "        ], columns=df.columns))\n",
    "        \n",
    "df_pc.drop('genres', axis=1, inplace=True)\n",
    "df_pc.reset_index(drop=True, inplace=True)"
   ]
  },
  {
   "cell_type": "markdown",
   "metadata": {},
   "source": [
    "#### One record per genre"
   ]
  },
  {
   "cell_type": "code",
   "execution_count": 13,
   "metadata": {},
   "outputs": [],
   "source": [
    "genres_records = df[df.genres.str.contains('|')]\n",
    "genres_records.genres = genres_records.genres.apply(lambda x: x.split('|'))\n",
    "\n",
    "df_g = pd.DataFrame(columns=df.columns)\n",
    "for i in range(len(genres_records)):\n",
    "    record = genres_records.iloc[i] \n",
    "    for g in genres_records.genres[i]: \n",
    "        df_g = df_g.append(pd.DataFrame([\n",
    "            [record.popularity, record.budget, record.revenue, record.original_title, record.director, record.runtime, g, record.production_companies, record.release_year, record.budget_adj, record.revenue_adj]\n",
    "        ], columns=df.columns))\n",
    "        \n",
    "df_g.drop('production_companies', axis=1, inplace=True)\n",
    "df_g.reset_index(drop=True, inplace=True)"
   ]
  },
  {
   "cell_type": "markdown",
   "metadata": {},
   "source": [
    "<a id=\"#graphs\"></a>\n",
    "# Graphs"
   ]
  },
  {
   "cell_type": "markdown",
   "metadata": {},
   "source": [
    "### Which production companies released the most movies in the last 10 years? \n",
    "<p> - Display the top 5 production companies"
   ]
  },
  {
   "cell_type": "code",
   "execution_count": 14,
   "metadata": {
    "scrolled": true
   },
   "outputs": [
    {
     "data": {
      "text/plain": [
       "Relativity Media      90\n",
       "Universal Pictures    89\n",
       "Warner Bros.          87\n",
       "Columbia Pictures     73\n",
       "Paramount Pictures    60\n",
       "Name: production_companies, dtype: int64"
      ]
     },
     "execution_count": 14,
     "metadata": {},
     "output_type": "execute_result"
    }
   ],
   "source": [
    "last_ten = df_pc.query('release_year>=2008')\n",
    "tp_pro_ten= last_ten.production_companies.value_counts()\n",
    "graph1 = tp_pro_ten.nlargest(5)\n",
    "graph1"
   ]
  },
  {
   "cell_type": "code",
   "execution_count": 15,
   "metadata": {
    "scrolled": false
   },
   "outputs": [
    {
     "data": {
      "image/png": "[encoded data removed]",
      "text/plain": [
       "<Figure size 1224x576 with 1 Axes>"
      ]
     },
     "metadata": {
      "needs_background": "light"
     },
     "output_type": "display_data"
    }
   ],
   "source": [
    "plt.subplots(figsize=(17, 8))\n",
    "plt.bar(graph1.index, graph1, color=(\"yellow\", \"pink\", \"orange\", \"green\", \"blue\"))\n",
    "plt.title(\"Top 5 Production Companies in the last 10 Years\", fontsize=18)\n",
    "plt.xlabel(\"Production Companies\", fontsize=16)\n",
    "plt.ylabel(\"Movies\", fontsize=16)\n",
    "plt.show()"
   ]
  },
  {
   "cell_type": "markdown",
   "metadata": {},
   "source": [
    "#### - Warner Bros has released the most movies!"
   ]
  },
  {
   "cell_type": "markdown",
   "metadata": {},
   "source": [
    "### What 5 movie genres grossed the highest of all-time?"
   ]
  },
  {
   "cell_type": "code",
   "execution_count": 16,
   "metadata": {
    "scrolled": true
   },
   "outputs": [
    {
     "data": {
      "text/plain": [
       "genres\n",
       "Action       169.790679\n",
       "Adventure    163.439947\n",
       "Comedy       132.031867\n",
       "Drama        130.334141\n",
       "Thriller     117.587447\n",
       "Name: revenue, dtype: float64"
      ]
     },
     "execution_count": 16,
     "metadata": {},
     "output_type": "execute_result"
    }
   ],
   "source": [
    "top_g = df_g.groupby('genres').revenue.sum()\n",
    "top_g.nlargest(5)\n",
    "graph2 = top_g.nlargest(5)/1e9\n",
    "graph2"
   ]
  },
  {
   "cell_type": "code",
   "execution_count": 17,
   "metadata": {
    "scrolled": false
   },
   "outputs": [
    {
     "data": {
      "image/png": "[encoded data removed]",
      "text/plain": [
       "<Figure size 1224x576 with 1 Axes>"
      ]
     },
     "metadata": {
      "needs_background": "light"
     },
     "output_type": "display_data"
    }
   ],
   "source": [
    "plt.subplots(figsize=(17, 8))\n",
    "plt.bar(graph2.index, graph2, color=(\"blue\", \"pink\", \"blue\", \"pink\", \"blue\"))\n",
    "plt.title(\"Top Grossing Genres of All-Time\", fontsize=18)\n",
    "plt.xlabel(\"Genres\", fontsize=16)\n",
    "plt.ylabel(\"Gross\", fontsize=16)\n",
    "plt.show()"
   ]
  },
  {
   "cell_type": "markdown",
   "metadata": {},
   "source": [
    "#### - Adventure is the highest grossing genre of all time!"
   ]
  },
  {
   "cell_type": "markdown",
   "metadata": {},
   "source": [
    "### Who are the top 5 grossing directors?"
   ]
  },
  {
   "cell_type": "code",
   "execution_count": 18,
   "metadata": {
    "scrolled": false
   },
   "outputs": [
    {
     "data": {
      "text/plain": [
       "director\n",
       "Steven Spielberg     9.018564\n",
       "Peter Jackson        6.523245\n",
       "James Cameron        5.841895\n",
       "Michael Bay          4.917208\n",
       "Christopher Nolan    4.167549\n",
       "Name: revenue, dtype: float64"
      ]
     },
     "execution_count": 18,
     "metadata": {},
     "output_type": "execute_result"
    }
   ],
   "source": [
    "top_d = df.groupby('director').revenue.sum()\n",
    "top_d.nlargest(5)\n",
    "graph3 = top_d.nlargest(5)/1e9\n",
    "graph3"
   ]
  },
  {
   "cell_type": "code",
   "execution_count": 19,
   "metadata": {
    "scrolled": false
   },
   "outputs": [
    {
     "data": {
      "image/png": "[encoded data removed]",
      "text/plain": [
       "<Figure size 1224x576 with 1 Axes>"
      ]
     },
     "metadata": {
      "needs_background": "light"
     },
     "output_type": "display_data"
    }
   ],
   "source": [
    "plt.subplots(figsize=(17, 8))\n",
    "plt.bar(graph3.index, graph3, color=(\"green\", \"pink\", \"green\", \"pink\", \"green\"))\n",
    "plt.title(\"Top 5 Grossing Directors\", fontsize=18)\n",
    "plt.xlabel(\"Directors\", fontsize=16)\n",
    "plt.ylabel(\"Gross in $ Billions\", fontsize=16)\n",
    "plt.show()"
   ]
  },
  {
   "cell_type": "markdown",
   "metadata": {},
   "source": [
    "#### - Peter Jackson is the highest grossing director!"
   ]
  },
  {
   "cell_type": "markdown",
   "metadata": {},
   "source": [
    "### Compare the revenue of the highest grossing movies of all time"
   ]
  },
  {
   "cell_type": "code",
   "execution_count": 20,
   "metadata": {
    "scrolled": true
   },
   "outputs": [
    {
     "data": {
      "text/plain": [
       "original_title\n",
       "Avatar                          2.781506\n",
       "Star Wars: The Force Awakens    2.068178\n",
       "Titanic                         1.845034\n",
       "The Avengers                    1.568081\n",
       "Jurassic World                  1.513529\n",
       "Name: revenue, dtype: float64"
      ]
     },
     "execution_count": 20,
     "metadata": {},
     "output_type": "execute_result"
    }
   ],
   "source": [
    "high_g = df.groupby('original_title').revenue.sum()\n",
    "high_g.nlargest(5)\n",
    "graph4 = high_g.nlargest(5)/1e9\n",
    "graph4"
   ]
  },
  {
   "cell_type": "code",
   "execution_count": 21,
   "metadata": {
    "scrolled": false
   },
   "outputs": [
    {
     "data": {
      "image/png": "[encoded data removed]",
      "text/plain": [
       "<Figure size 1224x576 with 1 Axes>"
      ]
     },
     "metadata": {
      "needs_background": "light"
     },
     "output_type": "display_data"
    }
   ],
   "source": [
    "plt.subplots(figsize=(17, 8))\n",
    "plt.bar(graph4.index, graph4, color=(\"blue\", \"yellow\", \"blue\", \"yellow\", \"blue\"))\n",
    "plt.title(\"Highest Grossing Movies of All-Time\", fontsize=18)\n",
    "plt.xlabel(\"Movies\", fontsize=16)\n",
    "plt.ylabel(\"Gross in $ Billions\", fontsize=16)\n",
    "plt.show()"
   ]
  },
  {
   "cell_type": "markdown",
   "metadata": {},
   "source": [
    "#### - Avatar is the highest grossing movie of all time!"
   ]
  },
  {
   "cell_type": "markdown",
   "metadata": {},
   "source": [
    "### Conclusion"
   ]
  },
  {
   "cell_type": "markdown",
   "metadata": {},
   "source": [
    "#### - It is no surprise to know that the top earners in the movie industry are all familiar names. Names accompanied by the most famous movies like Avatar, Harry Potter, Star Wars, Titanic, etc.. \n",
    "#### There was however only one production company I did not recognize - Relativity Media. Why are they in the top production companies in the last 10 year? Well, they are the production company who has released The Fast and the Furious movies, among many other familiar ones. "
   ]
  }
 ],
 "metadata": {
  "kernelspec": {
   "display_name": "Python 3",
   "language": "python",
   "name": "python3"
  },
  "language_info": {
   "codemirror_mode": {
    "name": "ipython",
    "version": 3
   },
   "file_extension": ".py",
   "mimetype": "text/x-python",
   "name": "python",
   "nbconvert_exporter": "python",
   "pygments_lexer": "ipython3",
   "version": "3.7.0"
  }
 },
 "nbformat": 4,
 "nbformat_minor": 2
}
